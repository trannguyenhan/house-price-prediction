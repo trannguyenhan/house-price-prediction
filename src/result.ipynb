{
 "cells": [
  {
   "cell_type": "code",
   "execution_count": 1,
   "metadata": {},
   "outputs": [],
   "source": [
    "import numpy as np"
   ]
  },
  {
   "cell_type": "code",
   "execution_count": 2,
   "metadata": {},
   "outputs": [],
   "source": [
    "xgboost_mae = [1.1452, 1.1610, 1.1739, 1.1797, 1.1645, 1.1828, 1.1608, 1.1485, 1.1626, 1.1606]\n",
    "xgboost_rmse = [1.6810, 1.7160, 1.7254, 1.7342, 1.7101, 1.7572, 1.6996, 1.6886, 1.7184, 1.6949]\n",
    "xgboost_mape = [0.2177, 0.2210, 0.2206, 0.2199, 0.2197, 0.2226, 0.2231, 0.2166, 0.2196, 0.2185]"
   ]
  },
  {
   "cell_type": "code",
   "execution_count": 3,
   "metadata": {},
   "outputs": [],
   "source": [
    "mlp_mae = [1.4719, 1.5449, 1.5253, 1.5224, 1.5067, 1.5457, 1.4669, 1.4846, 1.5312, 1.4665]\n",
    "mlp_rmse = [2.0331, 2.1377, 2.0981, 2.1092, 2.0684, 2.1095, 2.0379, 2.0591, 2.1222, 2.0402]\n",
    "mlp_mape = [0.2997, 0.3187, 0.3039, 0.2987, 0.3038, 0.3100, 0.2949, 0.3007, 0.3060, 0.2962]"
   ]
  },
  {
   "cell_type": "code",
   "execution_count": 4,
   "metadata": {},
   "outputs": [
    {
     "name": "stdout",
     "output_type": "stream",
     "text": [
      "XGBoost\n",
      "MAE: 1.1640 0.0115\n",
      "RMSE: 1.7125 0.0217\n",
      "MAPE: 0.2199 0.0019\n"
     ]
    }
   ],
   "source": [
    "print('XGBoost')\n",
    "print(f'MAE: {np.mean(xgboost_mae):.4f} {np.std(xgboost_mae):.4f}')\n",
    "print(f'RMSE: {np.mean(xgboost_rmse):.4f} {np.std(xgboost_rmse):.4f}')\n",
    "print(f'MAPE: {np.mean(xgboost_mape):.4f} {np.std(xgboost_mape):.4f}')"
   ]
  },
  {
   "cell_type": "code",
   "execution_count": 5,
   "metadata": {},
   "outputs": [
    {
     "name": "stdout",
     "output_type": "stream",
     "text": [
      "MLP\n",
      "MAE: 1.5066 0.0301\n",
      "RMSE: 2.0815 0.0364\n",
      "MAPE: 0.3033 0.0067\n"
     ]
    }
   ],
   "source": [
    "print('MLP')\n",
    "print(f'MAE: {np.mean(mlp_mae):.4f} {np.std(mlp_mae):.4f}')\n",
    "print(f'RMSE: {np.mean(mlp_rmse):.4f} {np.std(mlp_rmse):.4f}')\n",
    "print(f'MAPE: {np.mean(mlp_mape):.4f} {np.std(mlp_mape):.4f}')"
   ]
  }
 ],
 "metadata": {
  "interpreter": {
   "hash": "434cc116f6d48d25c21921e6749ffbe1617aa77001d24efb292271dc0f6f87ef"
  },
  "kernelspec": {
   "display_name": "Python 3.8.9 64-bit",
   "language": "python",
   "name": "python3"
  },
  "language_info": {
   "codemirror_mode": {
    "name": "ipython",
    "version": 3
   },
   "file_extension": ".py",
   "mimetype": "text/x-python",
   "name": "python",
   "nbconvert_exporter": "python",
   "pygments_lexer": "ipython3",
   "version": "3.8.9"
  },
  "orig_nbformat": 4
 },
 "nbformat": 4,
 "nbformat_minor": 2
}
