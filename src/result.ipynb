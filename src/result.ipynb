{
 "cells": [
  {
   "cell_type": "code",
   "execution_count": 1,
   "metadata": {},
   "outputs": [],
   "source": [
    "import numpy as np"
   ]
  },
  {
   "cell_type": "code",
   "execution_count": 2,
   "metadata": {},
   "outputs": [],
   "source": [
    "xgboost_mae = [1.1452, 1.1606, 1.1485, 1.1485, 1.1608, 1.1828, 1.1645, 1.1797, 1.1739, 1.1610]\n",
    "xgboost_rmse = [1.6810, 1.6949, 1.7184, 1.6886, 1.6996, 1.7572, 1.7101, 1.7342, 1.7254, 1.7160]\n",
    "xgboost_mape = [0.2177, 0.2185, 0.2196, 0.2166, 0.2231, 0.2226, 0.2197, 0.2199, 0.2206, 0.2210]\n",
    "xgboost_r2 = [0.7175, 0.7159, 0.7126, 0.7165, 0.7106, 0.6977, 0.7122, 0.7108, 0.7081, 0.7138]"
   ]
  },
  {
   "cell_type": "code",
   "execution_count": 3,
   "metadata": {},
   "outputs": [],
   "source": [
    "mlp_mae = [1.4610, 1.5406, 1.4848, 1.4980, 1.4550, 1.4976, 1.4637, 1.4969, 1.5061, 1.5370]\n",
    "mlp_rmse = [2.0187, 2.1218, 2.0637, 2.0636, 2.0180, 2.0586, 2.0299, 2.0777, 2.0731, 2.1262]\n",
    "mlp_mape = [0.2985, 0.3142, 0.2949, 0.3078, 0.2930, 0.2971, 0.2904, 0.2928, 0.3018, 0.3172]\n",
    "mlp_r2 = [0.5926, 0.5547, 0.5855, 0.5765, 0.5919, 0.5851, 0.5945, 0.5850, 0.5786, 0.5607]"
   ]
  },
  {
   "cell_type": "code",
   "execution_count": 4,
   "metadata": {},
   "outputs": [
    {
     "name": "stdout",
     "output_type": "stream",
     "text": [
      "XGBoost\n",
      "MAE: 1.1625 0.0124\n",
      "RMSE: 1.7125 0.0217\n",
      "MAPE: 0.2199 0.0019\n",
      "R2-Score: 0.7116 0.0054\n"
     ]
    }
   ],
   "source": [
    "print('XGBoost')\n",
    "print(f'MAE: {np.mean(xgboost_mae):.4f} {np.std(xgboost_mae):.4f}')\n",
    "print(f'RMSE: {np.mean(xgboost_rmse):.4f} {np.std(xgboost_rmse):.4f}')\n",
    "print(f'MAPE: {np.mean(xgboost_mape):.4f} {np.std(xgboost_mape):.4f}')\n",
    "print(f'R2-Score: {np.mean(xgboost_r2):.4f} {np.std(xgboost_r2):.4f}')"
   ]
  },
  {
   "cell_type": "code",
   "execution_count": 5,
   "metadata": {},
   "outputs": [
    {
     "name": "stdout",
     "output_type": "stream",
     "text": [
      "MLP\n",
      "MAE: 1.4941 0.0280\n",
      "RMSE: 2.0651 0.0358\n",
      "MAPE: 0.3008 0.0089\n",
      "R2-Score: 0.5805 0.0127\n"
     ]
    }
   ],
   "source": [
    "print('MLP')\n",
    "print(f'MAE: {np.mean(mlp_mae):.4f} {np.std(mlp_mae):.4f}')\n",
    "print(f'RMSE: {np.mean(mlp_rmse):.4f} {np.std(mlp_rmse):.4f}')\n",
    "print(f'MAPE: {np.mean(mlp_mape):.4f} {np.std(mlp_mape):.4f}')\n",
    "print(f'R2-Score: {np.mean(mlp_r2):.4f} {np.std(mlp_r2):.4f}')"
   ]
  }
 ],
 "metadata": {
  "interpreter": {
   "hash": "434cc116f6d48d25c21921e6749ffbe1617aa77001d24efb292271dc0f6f87ef"
  },
  "kernelspec": {
   "display_name": "Python 3.8.9 64-bit",
   "language": "python",
   "name": "python3"
  },
  "language_info": {
   "codemirror_mode": {
    "name": "ipython",
    "version": 3
   },
   "file_extension": ".py",
   "mimetype": "text/x-python",
   "name": "python",
   "nbconvert_exporter": "python",
   "pygments_lexer": "ipython3",
   "version": "3.8.9"
  },
  "orig_nbformat": 4
 },
 "nbformat": 4,
 "nbformat_minor": 2
}
